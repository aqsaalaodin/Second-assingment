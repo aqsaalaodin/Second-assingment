{
 "cells": [
  {
   "cell_type": "code",
   "execution_count": 1,
   "id": "dfdf375e",
   "metadata": {},
   "outputs": [],
   "source": [
    "fruit = 'banana'\n"
   ]
  },
  {
   "cell_type": "code",
   "execution_count": 4,
   "id": "a0390d9c",
   "metadata": {},
   "outputs": [
    {
     "name": "stdout",
     "output_type": "stream",
     "text": [
      "b\n",
      "a\n",
      "n\n",
      "a\n",
      "n\n",
      "a\n"
     ]
    }
   ],
   "source": [
    "for letter in fruit : \n",
    "    print(letter)"
   ]
  },
  {
   "cell_type": "code",
   "execution_count": 5,
   "id": "22b6c845",
   "metadata": {},
   "outputs": [],
   "source": [
    "index = 0\n"
   ]
  },
  {
   "cell_type": "code",
   "execution_count": 6,
   "id": "f59c55d0",
   "metadata": {},
   "outputs": [
    {
     "ename": "SyntaxError",
     "evalue": "incomplete input (1321177223.py, line 1)",
     "output_type": "error",
     "traceback": [
      "\u001b[1;36m  Cell \u001b[1;32mIn[6], line 1\u001b[1;36m\u001b[0m\n\u001b[1;33m    while index < len(fruit) :\u001b[0m\n\u001b[1;37m                              ^\u001b[0m\n\u001b[1;31mSyntaxError\u001b[0m\u001b[1;31m:\u001b[0m incomplete input\n"
     ]
    }
   ],
   "source": [
    "while index < len(fruit) :\n"
   ]
  },
  {
   "cell_type": "code",
   "execution_count": null,
   "id": "0da194ff",
   "metadata": {},
   "outputs": [],
   "source": []
  }
 ],
 "metadata": {
  "kernelspec": {
   "display_name": "Python 3 (ipykernel)",
   "language": "python",
   "name": "python3"
  },
  "language_info": {
   "codemirror_mode": {
    "name": "ipython",
    "version": 3
   },
   "file_extension": ".py",
   "mimetype": "text/x-python",
   "name": "python",
   "nbconvert_exporter": "python",
   "pygments_lexer": "ipython3",
   "version": "3.11.4"
  }
 },
 "nbformat": 4,
 "nbformat_minor": 5
}
